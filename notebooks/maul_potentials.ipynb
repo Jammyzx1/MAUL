{
 "cells": [
  {
   "cell_type": "markdown",
   "id": "10ef932a",
   "metadata": {},
   "source": [
    "# MAUL Potentials Training and Usage\n",
    "This notebook gives examples how to use the library and the supporting methods to apply a trianed models for calculations."
   ]
  },
  {
   "cell_type": "code",
   "execution_count": null,
   "id": "b6592cd8-8a1e-4658-8fef-cb63c1f98813",
   "metadata": {},
   "outputs": [],
   "source": [
    "import maul\n",
    "from maul import interface\n",
    "from pathlib import Path\n",
    "from maul.neural_pot import train_np\n",
    "\n",
    "import logging\n",
    "\n",
    "%load_ext autoreload\n",
    "%autoreload 2\n",
    "\n",
    "logging.basicConfig(level=logging.INFO)\n",
    "log = logging.getLogger(__name__)"
   ]
  },
  {
   "cell_type": "code",
   "execution_count": null,
   "id": "83e492c8-0599-4dae-b181-c1013b6885c0",
   "metadata": {},
   "outputs": [],
   "source": [
    "log.info(f\"MAUL version {maul.__version__}\")"
   ]
  },
  {
   "cell_type": "markdown",
   "id": "acf344c9",
   "metadata": {},
   "source": [
    "## Example Train DNN ensemble"
   ]
  },
  {
   "cell_type": "code",
   "execution_count": null,
   "id": "39367e2e-c94f-4ad5-8d79-93c87a0e657b",
   "metadata": {},
   "outputs": [],
   "source": [
    "train_np.train_neural_potential(\n",
    "    data=\"/Users/j.mcdonagh/Downloads/ANI-1_release_small\",\n",
    "    train_ani_dnn=True,\n",
    "    flipout=True,\n",
    "    params_prior=\"ani\",\n",
    "    use_schedulers=True,\n",
    "    max_epochs=10,\n",
    ")"
   ]
  },
  {
   "cell_type": "markdown",
   "id": "ae76e4bf",
   "metadata": {},
   "source": [
    "## Example train a BNN"
   ]
  },
  {
   "cell_type": "code",
   "execution_count": null,
   "id": "67bc4f60",
   "metadata": {},
   "outputs": [],
   "source": [
    "train_np.train_neural_potential(\n",
    "    data=\"/Users/j.mcdonagh/Downloads/ANI-1_release_small\",\n",
    "    train_ani_bnn=True,\n",
    "    flipout=True,\n",
    "    params_prior=\"ani\",\n",
    "    lml=True,\n",
    "    max_epochs=5,\n",
    ")"
   ]
  },
  {
   "cell_type": "markdown",
   "id": "14907892",
   "metadata": {},
   "source": [
    "## Example Using a Trained MAUL Model"
   ]
  },
  {
   "cell_type": "code",
   "execution_count": null,
   "id": "a758802e",
   "metadata": {},
   "outputs": [],
   "source": [
    "cwd.as_posix()"
   ]
  },
  {
   "cell_type": "code",
   "execution_count": null,
   "id": "005507f8",
   "metadata": {},
   "outputs": [],
   "source": [
    "cwd = Path.cwd().parent\n",
    "p = cwd.joinpath(\"complete_models/maul1.pt\")\n",
    "p = cwd.joinpath(\"src/maul/neural_pot/maul1_weights/maul1_weights.pt\")\n",
    "p = cwd.joinpath(\"notebooks/best_ani_model_checkpoint.pt\")"
   ]
  },
  {
   "cell_type": "code",
   "execution_count": null,
   "id": "47af1065",
   "metadata": {},
   "outputs": [],
   "source": [
    "from maul.interface import modified_ase\n",
    "model = modified_ase.load_model(\n",
    "    p,\n",
    "    model_key=None\n",
    ")"
   ]
  },
  {
   "cell_type": "code",
   "execution_count": null,
   "id": "d2d5b7ff",
   "metadata": {},
   "outputs": [],
   "source": []
  }
 ],
 "metadata": {
  "kernelspec": {
   "display_name": "mau",
   "language": "python",
   "name": "python3"
  },
  "language_info": {
   "codemirror_mode": {
    "name": "ipython",
    "version": 3
   },
   "file_extension": ".py",
   "mimetype": "text/x-python",
   "name": "python",
   "nbconvert_exporter": "python",
   "pygments_lexer": "ipython3",
   "version": "3.11.11"
  }
 },
 "nbformat": 4,
 "nbformat_minor": 5
}
